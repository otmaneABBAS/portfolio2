{
  "nbformat": 4,
  "nbformat_minor": 0,
  "metadata": {
    "colab": {
      "provenance": [],
      "authorship_tag": "ABX9TyPZnaf0tBrX+HVJwlY9KGkN",
      "include_colab_link": true
    },
    "kernelspec": {
      "name": "python3",
      "display_name": "Python 3"
    },
    "language_info": {
      "name": "python"
    }
  },
  "cells": [
    {
      "cell_type": "markdown",
      "metadata": {
        "id": "view-in-github",
        "colab_type": "text"
      },
      "source": [
        "<a href=\"https://colab.research.google.com/github/otmaneABBAS/portfolio2/blob/main/analyse%20des%20ventes%20.ipynb\" target=\"_parent\"><img src=\"https://colab.research.google.com/assets/colab-badge.svg\" alt=\"Open In Colab\"/></a>"
      ]
    },
    {
      "cell_type": "markdown",
      "source": [
        "**Analyse Exploratoire des Ventes d'une Chaine de vente d'electroniques**\n",
        "\n",
        "\n",
        "Chaque fichier contient les colonnes suivantes:\n",
        "\n",
        "OrderID: l'identifiant unique de la commande\n",
        "Product: La désignation du produit\n",
        "Quantity Ordered: la quantité vendue\n",
        "Price each: le prix unitaire\n",
        "order date : La date d'achat\n",
        "Purchase adress: l'adresse de la boutique de vente\n",
        "\n",
        "Nous allons analyser ces données pour répondre aux questions suivantes:\n",
        "\n",
        "Quel est le meilleur mois de vente ? et Quel est le chiffre d'affaires de ce mois ?\n",
        "Dans quelle ville a-t-on le plus vendu de produits ?\n",
        "A quelle heure devons-nous passer de la publicité pour augmenter nos ventes ?\n"
      ],
      "metadata": {
        "id": "Y1ZO3NAUVdBP"
      }
    },
    {
      "cell_type": "code",
      "execution_count": 1,
      "metadata": {
        "id": "wn_J4ULXVEsp"
      },
      "outputs": [],
      "source": [
        "import pandas as pd\n",
        "import matplotlib.pyplot as plt\n",
        "import seaborn as sns\n",
        "import numpy as np\n",
        "import os"
      ]
    },
    {
      "cell_type": "code",
      "source": [
        "url='https://raw.githubusercontent.com/kevindegila/data-analyst/main/datasets/SalesAnalysis/Output/all_data.csv'"
      ],
      "metadata": {
        "id": "Mjziu_-MTsWR"
      },
      "execution_count": 2,
      "outputs": []
    },
    {
      "cell_type": "code",
      "source": [
        "data_sales=pd.read_csv('https://raw.githubusercontent.com/kevindegila/data-analyst/main/datasets/SalesAnalysis/Output/all_data.csv')"
      ],
      "metadata": {
        "id": "6IiO_s78TsZg"
      },
      "execution_count": 3,
      "outputs": []
    },
    {
      "cell_type": "code",
      "source": [
        "data_sales.head()"
      ],
      "metadata": {
        "collapsed": true,
        "id": "kLbZv4tUTso3"
      },
      "execution_count": null,
      "outputs": []
    },
    {
      "cell_type": "code",
      "source": [
        "data_sales.describe()"
      ],
      "metadata": {
        "collapsed": true,
        "id": "223yPjFdUgRw"
      },
      "execution_count": null,
      "outputs": []
    },
    {
      "cell_type": "code",
      "source": [
        "data_sales.info()"
      ],
      "metadata": {
        "id": "z93yhEdfXghC"
      },
      "execution_count": null,
      "outputs": []
    },
    {
      "cell_type": "markdown",
      "source": [
        "# nettoyage de la data\n"
      ],
      "metadata": {
        "id": "IbLUtFWrYNbY"
      }
    },
    {
      "cell_type": "code",
      "source": [
        "#pour voir combien de valur manquantes par colonnes\n",
        "data_sales.isnull().sum(axis=0)"
      ],
      "metadata": {
        "id": "kyq7VEfEYifO"
      },
      "execution_count": null,
      "outputs": []
    },
    {
      "cell_type": "code",
      "source": [
        "data_sales.shape"
      ],
      "metadata": {
        "id": "bZn8hGP0ZfzK"
      },
      "execution_count": null,
      "outputs": []
    },
    {
      "cell_type": "code",
      "source": [
        "#supprimer toutes les valeurs manquantes\n",
        "data_sales.dropna(inplace=True)"
      ],
      "metadata": {
        "id": "V-ap5WEpaiSp"
      },
      "execution_count": 8,
      "outputs": []
    },
    {
      "cell_type": "code",
      "source": [
        "data_sales.shape"
      ],
      "metadata": {
        "id": "0VP4pT3wa2Y-"
      },
      "execution_count": null,
      "outputs": []
    },
    {
      "cell_type": "code",
      "source": [
        "data_sales.describe()"
      ],
      "metadata": {
        "id": "drOyLCjZbKd4"
      },
      "execution_count": null,
      "outputs": []
    },
    {
      "cell_type": "markdown",
      "source": [
        "changement des types\n"
      ],
      "metadata": {
        "id": "dOeQOL8ycOaI"
      }
    },
    {
      "cell_type": "code",
      "source": [
        "data_sales.head()"
      ],
      "metadata": {
        "id": "Lx0T2t8ncR1G"
      },
      "execution_count": null,
      "outputs": []
    },
    {
      "cell_type": "code",
      "source": [
        "#convertir la colonne price each et quantity ordred à des chiffres pour pouvoir calculer le chiffre d'affaire\n",
        "data_sales['Quantity Ordered']=pd.to_numeric(data_sales['Quantity Ordered'],errors='coerce')\n",
        "data_sales['Price Each']=pd.to_numeric(data_sales['Price Each'],errors='coerce')"
      ],
      "metadata": {
        "id": "NhtYgk1wccgO"
      },
      "execution_count": 12,
      "outputs": []
    },
    {
      "cell_type": "code",
      "source": [
        "data_sales.info()"
      ],
      "metadata": {
        "id": "iyCBtUWVdLoE"
      },
      "execution_count": null,
      "outputs": []
    },
    {
      "cell_type": "code",
      "source": [
        "data_sales['Order Date']=pd.to_datetime(data_sales['Order Date'],errors='coerce')"
      ],
      "metadata": {
        "id": "DvIukRXGd5hB"
      },
      "execution_count": null,
      "outputs": []
    },
    {
      "cell_type": "code",
      "source": [
        "#comment ajouter une colonne mois à partir de la colonne qui contient la date\n",
        "data_sales['month']=data_sales['Order Date'].dt.month_name()"
      ],
      "metadata": {
        "id": "l901jTgVeCq-"
      },
      "execution_count": 16,
      "outputs": []
    },
    {
      "cell_type": "code",
      "source": [
        "data_sales.sample(5)"
      ],
      "metadata": {
        "id": "us5hjcHaeJqW"
      },
      "execution_count": null,
      "outputs": []
    },
    {
      "cell_type": "markdown",
      "source": [
        "# quel est le meilleur mois de vente? et quel est le chiffre d'affaires de ce mois"
      ],
      "metadata": {
        "id": "8DVDpcSNe2qU"
      }
    },
    {
      "cell_type": "code",
      "source": [
        "data_sales['chdaf']=data_sales['Price Each']* data_sales['Quantity Ordered']\n",
        "data_sales"
      ],
      "metadata": {
        "id": "_x1p4TljfHlo"
      },
      "execution_count": null,
      "outputs": []
    },
    {
      "cell_type": "code",
      "source": [
        "data_sales.groupby('month')['chdaf'].sum().sort_values(ascending=False)\n"
      ],
      "metadata": {
        "id": "kbeX4kKbgeLV"
      },
      "execution_count": null,
      "outputs": []
    },
    {
      "cell_type": "markdown",
      "source": [
        "# dans quelle ville a-t-on le plus vendu de produits?\n"
      ],
      "metadata": {
        "id": "0X8vshZ5hhYR"
      }
    },
    {
      "cell_type": "code",
      "source": [
        "#pour afficher justes les valeurs unique d'une colonne spécifique\n",
        "data_sales['Purchase Address'].unique()"
      ],
      "metadata": {
        "colab": {
          "base_uri": "https://localhost:8080/"
        },
        "id": "wzuA5eiahtDx",
        "outputId": "fd4d6c72-b2a0-4e79-c950-61f4ab93b2fa"
      },
      "execution_count": 74,
      "outputs": [
        {
          "output_type": "execute_result",
          "data": {
            "text/plain": [
              "array(['917 1st St, Dallas, TX 75001',\n",
              "       '682 Chestnut St, Boston, MA 02215',\n",
              "       '669 Spruce St, Los Angeles, CA 90001', ...,\n",
              "       '981 4th St, New York City, NY 10001',\n",
              "       '840 Highland St, Los Angeles, CA 90001',\n",
              "       '220 12th St, San Francisco, CA 94016'], dtype=object)"
            ]
          },
          "metadata": {},
          "execution_count": 74
        }
      ]
    },
    {
      "cell_type": "code",
      "source": [
        "#pour diviser une chaine de caractéres\n",
        "'917 1st St, Dallas, TX 75001'.split(',')[1].strip()"
      ],
      "metadata": {
        "colab": {
          "base_uri": "https://localhost:8080/",
          "height": 36
        },
        "id": "SSEosw3HjKCF",
        "outputId": "6ad8ec4f-228c-4013-da87-ff303b38aacd"
      },
      "execution_count": 71,
      "outputs": [
        {
          "output_type": "execute_result",
          "data": {
            "text/plain": [
              "'Dallas'"
            ],
            "application/vnd.google.colaboratory.intrinsic+json": {
              "type": "string"
            }
          },
          "metadata": {},
          "execution_count": 71
        }
      ]
    },
    {
      "cell_type": "code",
      "source": [
        "def extraire_rue(Purchase_Address):\n",
        "  try:\n",
        "        parts = Purchase_Address.split(',')\n",
        "        if len(parts) > 1:\n",
        "            return parts[1].strip()\n",
        "        else:\n",
        "            return 'Adresse inconnue'\n",
        "  except Exception as e:\n",
        "        print(f\"Erreur avec l'adresse: {Purchase_Address} - {e}\")\n",
        "        return 'Erreur'\n",
        ""
      ],
      "metadata": {
        "id": "_-qaX-u1jh89"
      },
      "execution_count": 75,
      "outputs": []
    },
    {
      "cell_type": "code",
      "source": [
        "data_sales['city']=data_sales['Purchase Address'].apply(extraire_rue)"
      ],
      "metadata": {
        "id": "KN3zwN_GklVu"
      },
      "execution_count": 76,
      "outputs": []
    },
    {
      "cell_type": "code",
      "source": [
        "data_sales.groupby('city')['chdaf'].sum().sort_values(ascending=False)"
      ],
      "metadata": {
        "id": "ivNY9LkKWWuw"
      },
      "execution_count": null,
      "outputs": []
    },
    {
      "cell_type": "markdown",
      "source": [
        "# A quelle heure devons-nous passer de la publicité pour augmenter nos ventes?"
      ],
      "metadata": {
        "id": "lZP3uyrvXPCh"
      }
    },
    {
      "cell_type": "code",
      "source": [
        "data_sales.reset_index(inplace=True)"
      ],
      "metadata": {
        "id": "g6NAL1nYZ8Uf"
      },
      "execution_count": 87,
      "outputs": []
    },
    {
      "cell_type": "code",
      "source": [
        "data_sales['heure']=data_sales['Order Date'].dt.hour"
      ],
      "metadata": {
        "id": "4GonrEyKZMbh"
      },
      "execution_count": 88,
      "outputs": []
    },
    {
      "cell_type": "code",
      "source": [
        "data_sales.groupby('heure')['chdaf'].sum().sort_values(ascending=False)"
      ],
      "metadata": {
        "id": "RBby2T6paIMF"
      },
      "execution_count": null,
      "outputs": []
    }
  ]
}